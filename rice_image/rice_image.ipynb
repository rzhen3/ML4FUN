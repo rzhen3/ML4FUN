{
 "cells": [
  {
   "cell_type": "markdown",
   "id": "02218f0d",
   "metadata": {},
   "source": [
    "### Imports"
   ]
  },
  {
   "cell_type": "code",
   "execution_count": 1,
   "id": "6ad0f79f",
   "metadata": {},
   "outputs": [
    {
     "name": "stderr",
     "output_type": "stream",
     "text": [
      "c:\\Users\\royzh\\anaconda3\\envs\\kaggle\\Lib\\site-packages\\tqdm\\auto.py:21: TqdmWarning: IProgress not found. Please update jupyter and ipywidgets. See https://ipywidgets.readthedocs.io/en/stable/user_install.html\n",
      "  from .autonotebook import tqdm as notebook_tqdm\n"
     ]
    }
   ],
   "source": [
    "import kagglehub\n",
    "import matplotlib.pyplot as plt\n",
    "import pandas as pd\n",
    "import numpy as np\n",
    "import torch\n",
    "\n",
    "from sklearn.compose import ColumnTransformer\n",
    "from sklearn.model_selection import train_test_split, KFold\n",
    "from sklearn.preprocessing import StandardScaler, OneHotEncoder\n",
    "import torch.nn.functional as F\n",
    "\n",
    "import os\n"
   ]
  },
  {
   "cell_type": "code",
   "execution_count": null,
   "id": "d5c5cfde",
   "metadata": {},
   "outputs": [
    {
     "name": "stdout",
     "output_type": "stream",
     "text": [
      "Warning: Looks like you're using an outdated `kagglehub` version, please consider updating (latest version: 0.3.12)\n",
      "Downloading from https://www.kaggle.com/api/v1/datasets/download/muratkokludataset/rice-image-dataset?dataset_version_number=1...\n"
     ]
    },
    {
     "name": "stderr",
     "output_type": "stream",
     "text": [
      "100%|██████████| 219M/219M [00:06<00:00, 34.5MB/s] "
     ]
    },
    {
     "name": "stdout",
     "output_type": "stream",
     "text": [
      "Extracting model files...\n"
     ]
    },
    {
     "name": "stderr",
     "output_type": "stream",
     "text": [
      "\n"
     ]
    },
    {
     "name": "stdout",
     "output_type": "stream",
     "text": [
      "Path to dataset files: C:\\Users\\royzh\\.cache\\kagglehub\\datasets\\muratkokludataset\\rice-image-dataset\\versions\\1\n"
     ]
    }
   ],
   "source": [
    "# path = kagglehub.dataset_download(\"muratkokludataset/rice-image-dataset\")\n",
    "\n",
    "# print(\"Path to dataset files:\", path)"
   ]
  },
  {
   "cell_type": "code",
   "execution_count": null,
   "id": "e48eaa74",
   "metadata": {},
   "outputs": [
    {
     "data": {
      "text/plain": [
       "'./Rice_Image_Dataset/Arborio'"
      ]
     },
     "metadata": {},
     "output_type": "display_data"
    },
    {
     "data": {
      "text/plain": [
       "['Arborio',\n",
       " 'Basmati',\n",
       " 'Ipsala',\n",
       " 'Jasmine',\n",
       " 'Karacadag',\n",
       " 'Rice_Citation_Request.txt']"
      ]
     },
     "metadata": {},
     "output_type": "display_data"
    }
   ],
   "source": [
    "rice_classes = ['Arborio', 'Basmati', 'Ipsala', 'Jasmine', 'Karacadag']\n",
    "path_to_imgs = './Rice_Image_Dataset/'\n",
    "\n",
    "img_paths = []\n",
    "labels = []\n",
    "\n",
    "display(os.path.join(path_to_imgs, rice_classes[0]))\n",
    "display(os.listdir(path_to_imgs))\n",
    "\n",
    "for rice_name in rice_classes:\n",
    "    class_path = os.path.join(path_to_imgs, rice_name)\n",
    "\n",
    "    for item in os.listdir(class_path):\n",
    "        img_path = os.path.join(class_path, item)\n",
    "        img_paths.append(img_path)   \n",
    "        labels.append(rice_name.lower())\n"
   ]
  }
 ],
 "metadata": {
  "kernelspec": {
   "display_name": "kaggle",
   "language": "python",
   "name": "python3"
  },
  "language_info": {
   "codemirror_mode": {
    "name": "ipython",
    "version": 3
   },
   "file_extension": ".py",
   "mimetype": "text/x-python",
   "name": "python",
   "nbconvert_exporter": "python",
   "pygments_lexer": "ipython3",
   "version": "3.13.4"
  }
 },
 "nbformat": 4,
 "nbformat_minor": 5
}
