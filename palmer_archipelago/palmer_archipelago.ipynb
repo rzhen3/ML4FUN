{
 "cells": [
  {
   "cell_type": "markdown",
   "id": "c3021d6c",
   "metadata": {},
   "source": [
    "### Imports"
   ]
  },
  {
   "cell_type": "code",
   "execution_count": 1,
   "id": "a19179a2",
   "metadata": {},
   "outputs": [],
   "source": [
    "import pandas as pd\n",
    "import matplotlib.pyplot as plt\n",
    "import numpy as np\n",
    "import scipy as scp\n",
    "import torch\n",
    "\n",
    "from sklearn.preprocessing import LabelEncoder, StandardScaler\n",
    "from sklearn.compose import ColumnTransformer\n",
    "from sklearn import tree\n",
    "from sklearn.model_selection import KFold, train_test_split\n",
    "from sklearn.metrics import roc_auc_score, roc_curve"
   ]
  },
  {
   "cell_type": "code",
   "execution_count": 2,
   "id": "aa48b9ce",
   "metadata": {},
   "outputs": [],
   "source": [
    "lterdf = pd.read_csv('./archive/penguins_lter.csv')\n",
    "sizedf = pd.read_csv('./archive/penguins_size.csv')"
   ]
  },
  {
   "cell_type": "code",
   "execution_count": 3,
   "id": "e7ec8fe1",
   "metadata": {},
   "outputs": [
    {
     "data": {
      "text/html": [
       "<div>\n",
       "<style scoped>\n",
       "    .dataframe tbody tr th:only-of-type {\n",
       "        vertical-align: middle;\n",
       "    }\n",
       "\n",
       "    .dataframe tbody tr th {\n",
       "        vertical-align: top;\n",
       "    }\n",
       "\n",
       "    .dataframe thead th {\n",
       "        text-align: right;\n",
       "    }\n",
       "</style>\n",
       "<table border=\"1\" class=\"dataframe\">\n",
       "  <thead>\n",
       "    <tr style=\"text-align: right;\">\n",
       "      <th></th>\n",
       "      <th>species</th>\n",
       "      <th>island</th>\n",
       "      <th>culmen_length_mm</th>\n",
       "      <th>culmen_depth_mm</th>\n",
       "      <th>flipper_length_mm</th>\n",
       "      <th>body_mass_g</th>\n",
       "      <th>sex</th>\n",
       "    </tr>\n",
       "  </thead>\n",
       "  <tbody>\n",
       "    <tr>\n",
       "      <th>0</th>\n",
       "      <td>Adelie</td>\n",
       "      <td>Torgersen</td>\n",
       "      <td>39.1</td>\n",
       "      <td>18.7</td>\n",
       "      <td>181.0</td>\n",
       "      <td>3750.0</td>\n",
       "      <td>MALE</td>\n",
       "    </tr>\n",
       "    <tr>\n",
       "      <th>1</th>\n",
       "      <td>Adelie</td>\n",
       "      <td>Torgersen</td>\n",
       "      <td>39.5</td>\n",
       "      <td>17.4</td>\n",
       "      <td>186.0</td>\n",
       "      <td>3800.0</td>\n",
       "      <td>FEMALE</td>\n",
       "    </tr>\n",
       "    <tr>\n",
       "      <th>2</th>\n",
       "      <td>Adelie</td>\n",
       "      <td>Torgersen</td>\n",
       "      <td>40.3</td>\n",
       "      <td>18.0</td>\n",
       "      <td>195.0</td>\n",
       "      <td>3250.0</td>\n",
       "      <td>FEMALE</td>\n",
       "    </tr>\n",
       "    <tr>\n",
       "      <th>4</th>\n",
       "      <td>Adelie</td>\n",
       "      <td>Torgersen</td>\n",
       "      <td>36.7</td>\n",
       "      <td>19.3</td>\n",
       "      <td>193.0</td>\n",
       "      <td>3450.0</td>\n",
       "      <td>FEMALE</td>\n",
       "    </tr>\n",
       "    <tr>\n",
       "      <th>5</th>\n",
       "      <td>Adelie</td>\n",
       "      <td>Torgersen</td>\n",
       "      <td>39.3</td>\n",
       "      <td>20.6</td>\n",
       "      <td>190.0</td>\n",
       "      <td>3650.0</td>\n",
       "      <td>MALE</td>\n",
       "    </tr>\n",
       "    <tr>\n",
       "      <th>...</th>\n",
       "      <td>...</td>\n",
       "      <td>...</td>\n",
       "      <td>...</td>\n",
       "      <td>...</td>\n",
       "      <td>...</td>\n",
       "      <td>...</td>\n",
       "      <td>...</td>\n",
       "    </tr>\n",
       "    <tr>\n",
       "      <th>338</th>\n",
       "      <td>Gentoo</td>\n",
       "      <td>Biscoe</td>\n",
       "      <td>47.2</td>\n",
       "      <td>13.7</td>\n",
       "      <td>214.0</td>\n",
       "      <td>4925.0</td>\n",
       "      <td>FEMALE</td>\n",
       "    </tr>\n",
       "    <tr>\n",
       "      <th>340</th>\n",
       "      <td>Gentoo</td>\n",
       "      <td>Biscoe</td>\n",
       "      <td>46.8</td>\n",
       "      <td>14.3</td>\n",
       "      <td>215.0</td>\n",
       "      <td>4850.0</td>\n",
       "      <td>FEMALE</td>\n",
       "    </tr>\n",
       "    <tr>\n",
       "      <th>341</th>\n",
       "      <td>Gentoo</td>\n",
       "      <td>Biscoe</td>\n",
       "      <td>50.4</td>\n",
       "      <td>15.7</td>\n",
       "      <td>222.0</td>\n",
       "      <td>5750.0</td>\n",
       "      <td>MALE</td>\n",
       "    </tr>\n",
       "    <tr>\n",
       "      <th>342</th>\n",
       "      <td>Gentoo</td>\n",
       "      <td>Biscoe</td>\n",
       "      <td>45.2</td>\n",
       "      <td>14.8</td>\n",
       "      <td>212.0</td>\n",
       "      <td>5200.0</td>\n",
       "      <td>FEMALE</td>\n",
       "    </tr>\n",
       "    <tr>\n",
       "      <th>343</th>\n",
       "      <td>Gentoo</td>\n",
       "      <td>Biscoe</td>\n",
       "      <td>49.9</td>\n",
       "      <td>16.1</td>\n",
       "      <td>213.0</td>\n",
       "      <td>5400.0</td>\n",
       "      <td>MALE</td>\n",
       "    </tr>\n",
       "  </tbody>\n",
       "</table>\n",
       "<p>334 rows × 7 columns</p>\n",
       "</div>"
      ],
      "text/plain": [
       "    species     island  culmen_length_mm  culmen_depth_mm  flipper_length_mm  \\\n",
       "0    Adelie  Torgersen              39.1             18.7              181.0   \n",
       "1    Adelie  Torgersen              39.5             17.4              186.0   \n",
       "2    Adelie  Torgersen              40.3             18.0              195.0   \n",
       "4    Adelie  Torgersen              36.7             19.3              193.0   \n",
       "5    Adelie  Torgersen              39.3             20.6              190.0   \n",
       "..      ...        ...               ...              ...                ...   \n",
       "338  Gentoo     Biscoe              47.2             13.7              214.0   \n",
       "340  Gentoo     Biscoe              46.8             14.3              215.0   \n",
       "341  Gentoo     Biscoe              50.4             15.7              222.0   \n",
       "342  Gentoo     Biscoe              45.2             14.8              212.0   \n",
       "343  Gentoo     Biscoe              49.9             16.1              213.0   \n",
       "\n",
       "     body_mass_g     sex  \n",
       "0         3750.0    MALE  \n",
       "1         3800.0  FEMALE  \n",
       "2         3250.0  FEMALE  \n",
       "4         3450.0  FEMALE  \n",
       "5         3650.0    MALE  \n",
       "..           ...     ...  \n",
       "338       4925.0  FEMALE  \n",
       "340       4850.0  FEMALE  \n",
       "341       5750.0    MALE  \n",
       "342       5200.0  FEMALE  \n",
       "343       5400.0    MALE  \n",
       "\n",
       "[334 rows x 7 columns]"
      ]
     },
     "metadata": {},
     "output_type": "display_data"
    }
   ],
   "source": [
    "sizedf.dropna(inplace = True)\n",
    "display(sizedf)"
   ]
  },
  {
   "cell_type": "markdown",
   "id": "32cc3710",
   "metadata": {},
   "source": [
    "### Visualizing data"
   ]
  },
  {
   "cell_type": "code",
   "execution_count": 4,
   "id": "88787b0e",
   "metadata": {},
   "outputs": [],
   "source": [
    "# drops island feature\n",
    "sizedf = sizedf.drop(columns = ['island'], axis = 1)\n",
    "le = LabelEncoder()\n",
    "\n",
    "# discretize categorical variables\n",
    "sizedf['sex'] = le.fit_transform(sizedf['sex'])\n",
    "sizedf['species'] = le.fit_transform(sizedf['species'])"
   ]
  },
  {
   "cell_type": "code",
   "execution_count": 5,
   "id": "0bd3a259",
   "metadata": {},
   "outputs": [
    {
     "data": {
      "text/html": [
       "<div>\n",
       "<style scoped>\n",
       "    .dataframe tbody tr th:only-of-type {\n",
       "        vertical-align: middle;\n",
       "    }\n",
       "\n",
       "    .dataframe tbody tr th {\n",
       "        vertical-align: top;\n",
       "    }\n",
       "\n",
       "    .dataframe thead th {\n",
       "        text-align: right;\n",
       "    }\n",
       "</style>\n",
       "<table border=\"1\" class=\"dataframe\">\n",
       "  <thead>\n",
       "    <tr style=\"text-align: right;\">\n",
       "      <th></th>\n",
       "      <th>species</th>\n",
       "      <th>culmen_length_mm</th>\n",
       "      <th>culmen_depth_mm</th>\n",
       "      <th>flipper_length_mm</th>\n",
       "      <th>body_mass_g</th>\n",
       "      <th>sex</th>\n",
       "    </tr>\n",
       "  </thead>\n",
       "  <tbody>\n",
       "    <tr>\n",
       "      <th>0</th>\n",
       "      <td>0</td>\n",
       "      <td>39.1</td>\n",
       "      <td>18.7</td>\n",
       "      <td>181.0</td>\n",
       "      <td>3750.0</td>\n",
       "      <td>2</td>\n",
       "    </tr>\n",
       "    <tr>\n",
       "      <th>1</th>\n",
       "      <td>0</td>\n",
       "      <td>39.5</td>\n",
       "      <td>17.4</td>\n",
       "      <td>186.0</td>\n",
       "      <td>3800.0</td>\n",
       "      <td>1</td>\n",
       "    </tr>\n",
       "    <tr>\n",
       "      <th>2</th>\n",
       "      <td>0</td>\n",
       "      <td>40.3</td>\n",
       "      <td>18.0</td>\n",
       "      <td>195.0</td>\n",
       "      <td>3250.0</td>\n",
       "      <td>1</td>\n",
       "    </tr>\n",
       "    <tr>\n",
       "      <th>4</th>\n",
       "      <td>0</td>\n",
       "      <td>36.7</td>\n",
       "      <td>19.3</td>\n",
       "      <td>193.0</td>\n",
       "      <td>3450.0</td>\n",
       "      <td>1</td>\n",
       "    </tr>\n",
       "    <tr>\n",
       "      <th>5</th>\n",
       "      <td>0</td>\n",
       "      <td>39.3</td>\n",
       "      <td>20.6</td>\n",
       "      <td>190.0</td>\n",
       "      <td>3650.0</td>\n",
       "      <td>2</td>\n",
       "    </tr>\n",
       "    <tr>\n",
       "      <th>...</th>\n",
       "      <td>...</td>\n",
       "      <td>...</td>\n",
       "      <td>...</td>\n",
       "      <td>...</td>\n",
       "      <td>...</td>\n",
       "      <td>...</td>\n",
       "    </tr>\n",
       "    <tr>\n",
       "      <th>338</th>\n",
       "      <td>2</td>\n",
       "      <td>47.2</td>\n",
       "      <td>13.7</td>\n",
       "      <td>214.0</td>\n",
       "      <td>4925.0</td>\n",
       "      <td>1</td>\n",
       "    </tr>\n",
       "    <tr>\n",
       "      <th>340</th>\n",
       "      <td>2</td>\n",
       "      <td>46.8</td>\n",
       "      <td>14.3</td>\n",
       "      <td>215.0</td>\n",
       "      <td>4850.0</td>\n",
       "      <td>1</td>\n",
       "    </tr>\n",
       "    <tr>\n",
       "      <th>341</th>\n",
       "      <td>2</td>\n",
       "      <td>50.4</td>\n",
       "      <td>15.7</td>\n",
       "      <td>222.0</td>\n",
       "      <td>5750.0</td>\n",
       "      <td>2</td>\n",
       "    </tr>\n",
       "    <tr>\n",
       "      <th>342</th>\n",
       "      <td>2</td>\n",
       "      <td>45.2</td>\n",
       "      <td>14.8</td>\n",
       "      <td>212.0</td>\n",
       "      <td>5200.0</td>\n",
       "      <td>1</td>\n",
       "    </tr>\n",
       "    <tr>\n",
       "      <th>343</th>\n",
       "      <td>2</td>\n",
       "      <td>49.9</td>\n",
       "      <td>16.1</td>\n",
       "      <td>213.0</td>\n",
       "      <td>5400.0</td>\n",
       "      <td>2</td>\n",
       "    </tr>\n",
       "  </tbody>\n",
       "</table>\n",
       "<p>334 rows × 6 columns</p>\n",
       "</div>"
      ],
      "text/plain": [
       "     species  culmen_length_mm  culmen_depth_mm  flipper_length_mm  \\\n",
       "0          0              39.1             18.7              181.0   \n",
       "1          0              39.5             17.4              186.0   \n",
       "2          0              40.3             18.0              195.0   \n",
       "4          0              36.7             19.3              193.0   \n",
       "5          0              39.3             20.6              190.0   \n",
       "..       ...               ...              ...                ...   \n",
       "338        2              47.2             13.7              214.0   \n",
       "340        2              46.8             14.3              215.0   \n",
       "341        2              50.4             15.7              222.0   \n",
       "342        2              45.2             14.8              212.0   \n",
       "343        2              49.9             16.1              213.0   \n",
       "\n",
       "     body_mass_g  sex  \n",
       "0         3750.0    2  \n",
       "1         3800.0    1  \n",
       "2         3250.0    1  \n",
       "4         3450.0    1  \n",
       "5         3650.0    2  \n",
       "..           ...  ...  \n",
       "338       4925.0    1  \n",
       "340       4850.0    1  \n",
       "341       5750.0    2  \n",
       "342       5200.0    1  \n",
       "343       5400.0    2  \n",
       "\n",
       "[334 rows x 6 columns]"
      ]
     },
     "metadata": {},
     "output_type": "display_data"
    }
   ],
   "source": [
    "display(sizedf)"
   ]
  },
  {
   "cell_type": "code",
   "execution_count": 6,
   "id": "0f1bd0cf",
   "metadata": {},
   "outputs": [
    {
     "data": {
      "text/html": [
       "<div>\n",
       "<style scoped>\n",
       "    .dataframe tbody tr th:only-of-type {\n",
       "        vertical-align: middle;\n",
       "    }\n",
       "\n",
       "    .dataframe tbody tr th {\n",
       "        vertical-align: top;\n",
       "    }\n",
       "\n",
       "    .dataframe thead th {\n",
       "        text-align: right;\n",
       "    }\n",
       "</style>\n",
       "<table border=\"1\" class=\"dataframe\">\n",
       "  <thead>\n",
       "    <tr style=\"text-align: right;\">\n",
       "      <th></th>\n",
       "      <th>species</th>\n",
       "      <th>culmen_length_mm</th>\n",
       "      <th>culmen_depth_mm</th>\n",
       "      <th>flipper_length_mm</th>\n",
       "      <th>body_mass_g</th>\n",
       "      <th>sex</th>\n",
       "    </tr>\n",
       "  </thead>\n",
       "  <tbody>\n",
       "    <tr>\n",
       "      <th>species</th>\n",
       "      <td>1.000000e+00</td>\n",
       "      <td>0.729262</td>\n",
       "      <td>0.740803</td>\n",
       "      <td>0.851351</td>\n",
       "      <td>0.751020</td>\n",
       "      <td>1.625802e-17</td>\n",
       "    </tr>\n",
       "    <tr>\n",
       "      <th>culmen_length_mm</th>\n",
       "      <td>7.292618e-01</td>\n",
       "      <td>1.000000</td>\n",
       "      <td>0.228640</td>\n",
       "      <td>0.652126</td>\n",
       "      <td>0.589066</td>\n",
       "      <td>3.386764e-01</td>\n",
       "    </tr>\n",
       "    <tr>\n",
       "      <th>culmen_depth_mm</th>\n",
       "      <td>7.408034e-01</td>\n",
       "      <td>0.228640</td>\n",
       "      <td>1.000000</td>\n",
       "      <td>0.578730</td>\n",
       "      <td>0.472987</td>\n",
       "      <td>3.740342e-01</td>\n",
       "    </tr>\n",
       "    <tr>\n",
       "      <th>flipper_length_mm</th>\n",
       "      <td>8.513508e-01</td>\n",
       "      <td>0.652126</td>\n",
       "      <td>0.578730</td>\n",
       "      <td>1.000000</td>\n",
       "      <td>0.873211</td>\n",
       "      <td>2.411210e-01</td>\n",
       "    </tr>\n",
       "    <tr>\n",
       "      <th>body_mass_g</th>\n",
       "      <td>7.510201e-01</td>\n",
       "      <td>0.589066</td>\n",
       "      <td>0.472987</td>\n",
       "      <td>0.873211</td>\n",
       "      <td>1.000000</td>\n",
       "      <td>4.115305e-01</td>\n",
       "    </tr>\n",
       "    <tr>\n",
       "      <th>sex</th>\n",
       "      <td>1.625802e-17</td>\n",
       "      <td>0.338676</td>\n",
       "      <td>0.374034</td>\n",
       "      <td>0.241121</td>\n",
       "      <td>0.411531</td>\n",
       "      <td>1.000000e+00</td>\n",
       "    </tr>\n",
       "  </tbody>\n",
       "</table>\n",
       "</div>"
      ],
      "text/plain": [
       "                        species  culmen_length_mm  culmen_depth_mm  \\\n",
       "species            1.000000e+00          0.729262         0.740803   \n",
       "culmen_length_mm   7.292618e-01          1.000000         0.228640   \n",
       "culmen_depth_mm    7.408034e-01          0.228640         1.000000   \n",
       "flipper_length_mm  8.513508e-01          0.652126         0.578730   \n",
       "body_mass_g        7.510201e-01          0.589066         0.472987   \n",
       "sex                1.625802e-17          0.338676         0.374034   \n",
       "\n",
       "                   flipper_length_mm  body_mass_g           sex  \n",
       "species                     0.851351     0.751020  1.625802e-17  \n",
       "culmen_length_mm            0.652126     0.589066  3.386764e-01  \n",
       "culmen_depth_mm             0.578730     0.472987  3.740342e-01  \n",
       "flipper_length_mm           1.000000     0.873211  2.411210e-01  \n",
       "body_mass_g                 0.873211     1.000000  4.115305e-01  \n",
       "sex                         0.241121     0.411531  1.000000e+00  "
      ]
     },
     "metadata": {},
     "output_type": "display_data"
    },
    {
     "data": {
      "text/plain": [
       "<matplotlib.colorbar.Colorbar at 0x2aa2b0ac2f0>"
      ]
     },
     "execution_count": 6,
     "metadata": {},
     "output_type": "execute_result"
    },
    {
     "data": {
      "text/plain": [
       "<Figure size 1000x1000 with 0 Axes>"
      ]
     },
     "metadata": {},
     "output_type": "display_data"
    },
    {
     "data": {
      "image/png": "[encoded data removed]",
      "text/plain": [
       "<Figure size 480x480 with 2 Axes>"
      ]
     },
     "metadata": {},
     "output_type": "display_data"
    }
   ],
   "source": [
    "size_cov = sizedf.corr()\n",
    "size_cov_abs = size_cov.apply(lambda x: np.abs(x), axis = 1)\n",
    "display(size_cov_abs)\n",
    "plt.figure(figsize = (10, 10))\n",
    "plt.matshow(size_cov_abs)\n",
    "plt.xticks(ticks = [i for i in range(6)], labels = size_cov.columns.to_numpy(), \n",
    "           rotation = 45)\n",
    "plt.yticks(ticks = [i for i in range(6)], labels = size_cov.columns.to_numpy())\n",
    "plt.colorbar()"
   ]
  },
  {
   "cell_type": "markdown",
   "id": "942dc1ba",
   "metadata": {},
   "source": [
    "'species' bears no correlation with 'sex.' species-culmen features are similar but are no correlated amongst themselves. body_mass-flipper_len correlation is quite high\n",
    "\n",
    "Want to look at the statistics for each species groups "
   ]
  },
  {
   "cell_type": "code",
   "execution_count": 7,
   "id": "7adc9fec",
   "metadata": {},
   "outputs": [
    {
     "data": {
      "text/plain": [
       "<pandas.core.groupby.generic.DataFrameGroupBy object at 0x000002AA2B0ADD30>"
      ]
     },
     "metadata": {},
     "output_type": "display_data"
    }
   ],
   "source": [
    "# scale and normalize features?\n",
    "features_by_species = sizedf.groupby('species')\n",
    "mean_by_species = features_by_species.mean()\n",
    "std_by_species = features_by_species.std()\n",
    "\n",
    "display(features_by_species)"
   ]
  },
  {
   "cell_type": "code",
   "execution_count": 8,
   "id": "1ad06f49",
   "metadata": {},
   "outputs": [
    {
     "data": {
      "text/plain": [
       "species\n",
       "0    3706.164384\n",
       "1    3733.088235\n",
       "2    5090.625000\n",
       "Name: body_mass_g, dtype: float64"
      ]
     },
     "execution_count": 8,
     "metadata": {},
     "output_type": "execute_result"
    }
   ],
   "source": [
    "mean_by_species['body_mass_g']"
   ]
  },
  {
   "cell_type": "code",
   "execution_count": 9,
   "id": "427fcc82",
   "metadata": {},
   "outputs": [
    {
     "data": {
      "image/png": "[encoded data removed]",
      "text/plain": [
       "<Figure size 1000x600 with 1 Axes>"
      ]
     },
     "metadata": {},
     "output_type": "display_data"
    },
    {
     "data": {
      "image/png": "[encoded data removed]",
      "text/plain": [
       "<Figure size 1000x600 with 1 Axes>"
      ]
     },
     "metadata": {},
     "output_type": "display_data"
    },
    {
     "data": {
      "image/png": "[encoded data removed]",
      "text/plain": [
       "<Figure size 1000x600 with 1 Axes>"
      ]
     },
     "metadata": {},
     "output_type": "display_data"
    },
    {
     "data": {
      "image/png": "[encoded data removed]",
      "text/plain": [
       "<Figure size 1000x600 with 1 Axes>"
      ]
     },
     "metadata": {},
     "output_type": "display_data"
    },
    {
     "data": {
      "image/png": "[encoded data removed]",
      "text/plain": [
       "<Figure size 1000x600 with 1 Axes>"
      ]
     },
     "metadata": {},
     "output_type": "display_data"
    }
   ],
   "source": [
    "for f in mean_by_species.columns:\n",
    "    mean = mean_by_species[f]\n",
    "    std = std_by_species[f]\n",
    "\n",
    "    plt.figure(figsize = (10, 6))\n",
    "    plt.errorbar(mean.index, mean, yerr = std)\n",
    "    plt.title(f\"{f} by species\")\n"
   ]
  },
  {
   "cell_type": "code",
   "execution_count": 10,
   "id": "d4df83af",
   "metadata": {},
   "outputs": [],
   "source": [
    "# dropping 'sex' column due to its low utility\n",
    "size_x = sizedf.drop(columns = ['sex', 'species']).copy()\n",
    "size_y = sizedf['species'].copy().values"
   ]
  },
  {
   "cell_type": "code",
   "execution_count": 11,
   "id": "9213a085",
   "metadata": {},
   "outputs": [
    {
     "data": {
      "text/plain": [
       "array(['culmen_length_mm', 'culmen_depth_mm', 'flipper_length_mm',\n",
       "       'body_mass_g'], dtype=object)"
      ]
     },
     "metadata": {},
     "output_type": "display_data"
    }
   ],
   "source": [
    "display(size_x.columns.values)"
   ]
  },
  {
   "cell_type": "markdown",
   "id": "f322443f",
   "metadata": {},
   "source": [
    "### Define Preprocessor"
   ]
  },
  {
   "cell_type": "code",
   "execution_count": 12,
   "id": "8f5a131c",
   "metadata": {},
   "outputs": [],
   "source": [
    "# applying a column scaler to normalize features\n",
    "preprocessor = ColumnTransformer(\n",
    "    transformers = [('norm', StandardScaler(), size_x.columns.values)],\n",
    "    remainder = 'passthrough'\n",
    ")"
   ]
  },
  {
   "cell_type": "markdown",
   "id": "ff43d680",
   "metadata": {},
   "source": [
    "### Define DecisionTree Model"
   ]
  },
  {
   "cell_type": "code",
   "execution_count": 13,
   "id": "e43fd12b",
   "metadata": {},
   "outputs": [],
   "source": [
    "def gini_index() -> float:\n",
    "    pass\n",
    "\n",
    "def entropy() -> float:\n",
    "    pass\n",
    "\n",
    "def misclassification() -> float:\n",
    "    pass"
   ]
  },
  {
   "cell_type": "code",
   "execution_count": 14,
   "id": "15f6cc0d",
   "metadata": {},
   "outputs": [
    {
     "name": "stdout",
     "output_type": "stream",
     "text": [
      "2\n",
      "12\n"
     ]
    }
   ],
   "source": [
    "class TestClass():\n",
    "    shared = 0\n",
    "    def __init__(self, cond):\n",
    "        self.x = 0\n",
    "        self.y = 0\n",
    "        if cond:\n",
    "            self.alpha = 2\n",
    "            self.beta = 4\n",
    "            \n",
    "    def check(self, question):\n",
    "        if self.x < question:\n",
    "            print(\"hello\")\n",
    "    def update_shared(delta):\n",
    "        TestClass.shared +=delta\n",
    "            \n",
    "    def show_shared():\n",
    "        print(TestClass.shared)\n",
    "        \n",
    "            \n",
    "            \n",
    "a = TestClass(False)\n",
    "TestClass.update_shared(2)\n",
    "TestClass.show_shared()\n",
    "b = TestClass(True)\n",
    "TestClass.update_shared(10)\n",
    "TestClass.show_shared()"
   ]
  },
  {
   "cell_type": "code",
   "execution_count": 15,
   "id": "41d80a57",
   "metadata": {},
   "outputs": [
    {
     "data": {
      "text/plain": [
       "array([18.7, 17.4, 18. , 19.3, 20.6, 17.8, 19.6, 17.6, 21.2, 21.1, 19. ,\n",
       "       20.7, 18.4, 21.5, 18.3, 19.2, 18.1, 17.2, 18.9, 18.6, 17.9, 16.7,\n",
       "       17. , 20. , 18.5, 19.1, 19.7, 16.9, 18.8, 17.7, 19.5, 17.5, 16.6,\n",
       "       18.2, 17.1, 16.2, 19.4, 16.8, 16.1, 20.3, 17.3, 16. , 16.5, 20.5,\n",
       "       19.8, 15.9, 20.1, 15.5, 19.9, 20.8, 16.4, 13.2, 16.3, 14.1, 15.2,\n",
       "       14.5, 13.5, 14.6, 15.3, 13.4, 15.4, 13.7, 15.7, 15.1, 14.3, 15.8,\n",
       "       13.1, 15. , 14.2, 14.8, 13.6, 13.9, 13.3, 14.4, 13.8, 14.9, 15.6,\n",
       "       14. , 14.7])"
      ]
     },
     "execution_count": 15,
     "metadata": {},
     "output_type": "execute_result"
    }
   ],
   "source": [
    "size_x['culmen_depth_mm'].unique()"
   ]
  },
  {
   "cell_type": "code",
   "execution_count": 27,
   "id": "b738ae70",
   "metadata": {},
   "outputs": [
    {
     "data": {
      "text/plain": [
       "(array([214, 216, 218, 219, 220, 222, 224, 226, 227, 228, 230, 232, 234,\n",
       "        235, 236, 238, 241, 244, 245, 247, 249, 251, 253, 255, 258, 259,\n",
       "        261, 263, 264, 265, 267, 269, 271, 273, 274, 275, 277, 280, 285,\n",
       "        288, 290, 292, 294, 296, 298, 299, 300, 304, 306, 309, 310, 317,\n",
       "        319, 325, 329, 330, 332]),)"
      ]
     },
     "metadata": {},
     "output_type": "display_data"
    },
    {
     "data": {
      "text/plain": [
       "array([214, 216, 218, 219, 220, 222, 224, 226, 227, 228, 230, 232, 234,\n",
       "       235, 236, 238, 241, 244, 245, 247, 249, 251, 253, 255, 258, 259,\n",
       "       261, 263, 264, 265, 267, 269, 271, 273, 274, 275, 277, 280, 285,\n",
       "       288, 290, 292, 294, 296, 298, 299, 300, 304, 306, 309, 310, 317,\n",
       "       319, 325, 329, 330, 332])"
      ]
     },
     "metadata": {},
     "output_type": "display_data"
    },
    {
     "data": {
      "text/html": [
       "<div>\n",
       "<style scoped>\n",
       "    .dataframe tbody tr th:only-of-type {\n",
       "        vertical-align: middle;\n",
       "    }\n",
       "\n",
       "    .dataframe tbody tr th {\n",
       "        vertical-align: top;\n",
       "    }\n",
       "\n",
       "    .dataframe thead th {\n",
       "        text-align: right;\n",
       "    }\n",
       "</style>\n",
       "<table border=\"1\" class=\"dataframe\">\n",
       "  <thead>\n",
       "    <tr style=\"text-align: right;\">\n",
       "      <th></th>\n",
       "      <th>culmen_length_mm</th>\n",
       "      <th>culmen_depth_mm</th>\n",
       "      <th>flipper_length_mm</th>\n",
       "      <th>body_mass_g</th>\n",
       "    </tr>\n",
       "  </thead>\n",
       "  <tbody>\n",
       "    <tr>\n",
       "      <th>220</th>\n",
       "      <td>46.1</td>\n",
       "      <td>13.2</td>\n",
       "      <td>211.0</td>\n",
       "      <td>4500.0</td>\n",
       "    </tr>\n",
       "    <tr>\n",
       "      <th>222</th>\n",
       "      <td>48.7</td>\n",
       "      <td>14.1</td>\n",
       "      <td>210.0</td>\n",
       "      <td>4450.0</td>\n",
       "    </tr>\n",
       "    <tr>\n",
       "      <th>224</th>\n",
       "      <td>47.6</td>\n",
       "      <td>14.5</td>\n",
       "      <td>215.0</td>\n",
       "      <td>5400.0</td>\n",
       "    </tr>\n",
       "    <tr>\n",
       "      <th>225</th>\n",
       "      <td>46.5</td>\n",
       "      <td>13.5</td>\n",
       "      <td>210.0</td>\n",
       "      <td>4550.0</td>\n",
       "    </tr>\n",
       "    <tr>\n",
       "      <th>226</th>\n",
       "      <td>45.4</td>\n",
       "      <td>14.6</td>\n",
       "      <td>211.0</td>\n",
       "      <td>4800.0</td>\n",
       "    </tr>\n",
       "  </tbody>\n",
       "</table>\n",
       "</div>"
      ],
      "text/plain": [
       "     culmen_length_mm  culmen_depth_mm  flipper_length_mm  body_mass_g\n",
       "220              46.1             13.2              211.0       4500.0\n",
       "222              48.7             14.1              210.0       4450.0\n",
       "224              47.6             14.5              215.0       5400.0\n",
       "225              46.5             13.5              210.0       4550.0\n",
       "226              45.4             14.6              211.0       4800.0"
      ]
     },
     "metadata": {},
     "output_type": "display_data"
    },
    {
     "data": {
      "text/html": [
       "<div>\n",
       "<style scoped>\n",
       "    .dataframe tbody tr th:only-of-type {\n",
       "        vertical-align: middle;\n",
       "    }\n",
       "\n",
       "    .dataframe tbody tr th {\n",
       "        vertical-align: top;\n",
       "    }\n",
       "\n",
       "    .dataframe thead th {\n",
       "        text-align: right;\n",
       "    }\n",
       "</style>\n",
       "<table border=\"1\" class=\"dataframe\">\n",
       "  <thead>\n",
       "    <tr style=\"text-align: right;\">\n",
       "      <th></th>\n",
       "      <th>culmen_length_mm</th>\n",
       "      <th>culmen_depth_mm</th>\n",
       "      <th>flipper_length_mm</th>\n",
       "      <th>body_mass_g</th>\n",
       "    </tr>\n",
       "  </thead>\n",
       "  <tbody>\n",
       "    <tr>\n",
       "      <th>220</th>\n",
       "      <td>46.1</td>\n",
       "      <td>13.2</td>\n",
       "      <td>211.0</td>\n",
       "      <td>4500.0</td>\n",
       "    </tr>\n",
       "    <tr>\n",
       "      <th>222</th>\n",
       "      <td>48.7</td>\n",
       "      <td>14.1</td>\n",
       "      <td>210.0</td>\n",
       "      <td>4450.0</td>\n",
       "    </tr>\n",
       "    <tr>\n",
       "      <th>224</th>\n",
       "      <td>47.6</td>\n",
       "      <td>14.5</td>\n",
       "      <td>215.0</td>\n",
       "      <td>5400.0</td>\n",
       "    </tr>\n",
       "    <tr>\n",
       "      <th>225</th>\n",
       "      <td>46.5</td>\n",
       "      <td>13.5</td>\n",
       "      <td>210.0</td>\n",
       "      <td>4550.0</td>\n",
       "    </tr>\n",
       "    <tr>\n",
       "      <th>226</th>\n",
       "      <td>45.4</td>\n",
       "      <td>14.6</td>\n",
       "      <td>211.0</td>\n",
       "      <td>4800.0</td>\n",
       "    </tr>\n",
       "  </tbody>\n",
       "</table>\n",
       "</div>"
      ],
      "text/plain": [
       "     culmen_length_mm  culmen_depth_mm  flipper_length_mm  body_mass_g\n",
       "220              46.1             13.2              211.0       4500.0\n",
       "222              48.7             14.1              210.0       4450.0\n",
       "224              47.6             14.5              215.0       5400.0\n",
       "225              46.5             13.5              210.0       4550.0\n",
       "226              45.4             14.6              211.0       4800.0"
      ]
     },
     "metadata": {},
     "output_type": "display_data"
    }
   ],
   "source": [
    "display(np.where(size_x['culmen_depth_mm'] < 15))\n",
    "idxs = np.where(size_x['culmen_depth_mm'] < 15)\n",
    "display(idxs[0])\n",
    "display(size_x.iloc[idxs].head())\n",
    "display(size_x.iloc[idxs[0]].head())"
   ]
  },
  {
   "cell_type": "code",
   "execution_count": 16,
   "id": "22ea631c",
   "metadata": {},
   "outputs": [
    {
     "data": {
      "text/plain": [
       "0      False\n",
       "1      False\n",
       "2      False\n",
       "4      False\n",
       "5      False\n",
       "       ...  \n",
       "338     True\n",
       "340     True\n",
       "341    False\n",
       "342     True\n",
       "343    False\n",
       "Name: culmen_depth_mm, Length: 334, dtype: bool"
      ]
     },
     "metadata": {},
     "output_type": "display_data"
    },
    {
     "data": {
      "text/plain": [
       "334"
      ]
     },
     "metadata": {},
     "output_type": "display_data"
    },
    {
     "data": {
      "text/plain": [
       "334"
      ]
     },
     "metadata": {},
     "output_type": "display_data"
    }
   ],
   "source": [
    "x = size_x['culmen_depth_mm'] < 15\n",
    "y = size_x['culmen_depth_mm'] >= 15\n",
    "display(size_x['culmen_depth_mm'] < 15)\n",
    "\n",
    "# display(size_x[1, 5, 23, 2, 5])\n",
    "display(len(x))\n",
    "display(len(y))"
   ]
  },
  {
   "cell_type": "code",
   "execution_count": null,
   "id": "0357dd75",
   "metadata": {},
   "outputs": [],
   "source": [
    "class CustomDecisionTree():\n",
    "\n",
    "    def __init__(self, min_leaf = 0, num_classes = None, max_depth = 0, cost_func = misclassification):\n",
    "        self.min_leaf = min_leaf\n",
    "        self.max_depth = max_depth\n",
    "        self.cost_func = cost_func\n",
    "        self.num_classes = num_classes\n",
    "    \n",
    "    def predict():\n",
    "        pass\n",
    "    \n",
    "    def predict_proba(self, X):\n",
    "        \n",
    "        self.class_probs = torch.zeros((X.shape[0], ))\n",
    "        for i, ex in enumerate(X):\n",
    "            \n",
    "            pass\n",
    "        \n",
    "\n",
    "    def fit(self, X, Y):\n",
    "        self.X_train = X\n",
    "        self.Y_train = Y\n",
    "\n",
    "        # setup root node\n",
    "        root = Node(None)\n",
    "        root.data = self.X_train\n",
    "        root.labels = self.Y_train\n",
    "        root.depth = 0\n",
    "        root.num_classes = self.num_classes\n",
    "\n",
    "        # recursively build tree\n",
    "        self._fit_tree(root)\n",
    "        return self\n",
    "    \n",
    "    def _fit_tree(self, node):\n",
    "        if node.depth > self.max_depth and node.data.shape[0]:\n",
    "            \n",
    "            # perform greedy test\n",
    "            cost, split_feature, split_threshold = CustomDecisionTree._greedy_test(node, self.cost_func)\n",
    "            \n",
    "            node.split_feature = split_feature\n",
    "            node.split_threshold = split_threshold\n",
    "            df = node.data.iloc[node.data_indices]\n",
    "            idxs_left = np.where(df[split_feature] < split_threshold)\n",
    "            idxs_right = np.where(df[split_feature] >= split_threshold)\n",
    "\n",
    "            # creating children nodes\n",
    "            left_child = Node(node)\n",
    "            left_child.data_indices = idxs_left\n",
    "            node.left = left_child\n",
    "\n",
    "            right_child = Node(node)\n",
    "            right_child.data_indices = idxs_right\n",
    "            node.right = right_child\n",
    "\n",
    "            # continue tree generation\n",
    "            self._fit_tree(left_child)\n",
    "            self._fit_tree(right_child)\n",
    "            \n",
    "        \n",
    "    \n",
    "    def _greedy_test(node, cost_func):\n",
    "        min_cost = torch.inf\n",
    "        optimal_feature = None\n",
    "        optimal_threshold = None\n",
    "        df = node.data.iloc[node.data_indices]\n",
    "        node_features = df.shape[1]\n",
    "        \n",
    "        # iterate through all features and their thresholds\n",
    "        \n",
    "        for i in range(node_features):\n",
    "            feature = df.columns[i]\n",
    "            threshold_candidates = node.data[feature].unique()\n",
    "            for threshold in threshold_candidates:\n",
    "                # split node data into left and right\n",
    "                left_idxs = df[feature] < threshold\n",
    "                right_idxs = df[feature] >= threshold\n",
    "                \n",
    "                # skip if partition does nothing\n",
    "                if len(left_idxs) == 0 or len(right_idxs) == 0:\n",
    "                    continue\n",
    "                \n",
    "                # compute costs on each side\n",
    "                left_cost = cost_func(df[left_idxs][feature])\n",
    "                right_cost = cost_func(df[right_idxs][feature])\n",
    "                \n",
    "                # compute weighted cost\n",
    "                n_left = len(left_idxs)\n",
    "                n_right = len(right_idxs)\n",
    "                cost = (n_left/(n_left+n_right)) * left_cost + (n_right/(n_left+n_right)) * right_cost\n",
    "                if cost < min_cost:\n",
    "                    min_cost = cost\n",
    "                    optimal_feature = feature\n",
    "                    optimal_threshold = threshold\n",
    "                    \n",
    "        return min_cost, optimal_feature, optimal_threshold\n",
    "                \n",
    "                \n",
    "                \n",
    "        \n",
    "class Node():\n",
    "    def __init__(self, parent):\n",
    "        self.left = None,\n",
    "        self.right = None,\n",
    "        self.split_value = None,\n",
    "        self.split_threshold = None,\n",
    "        self.data_indices = None,\n",
    "        self.data = None,\n",
    "        self.depth = 0\n",
    "        self.features = None\n",
    "        self.labels = None\n",
    "        if parent:\n",
    "            self.depth = parent.depth\n",
    "            "
   ]
  },
  {
   "cell_type": "markdown",
   "id": "8350e551",
   "metadata": {},
   "source": [
    "### First Training Loop"
   ]
  },
  {
   "cell_type": "code",
   "execution_count": 18,
   "id": "e324f4e5",
   "metadata": {},
   "outputs": [
    {
     "data": {
      "text/plain": [
       "[{}, {}, {}, {}, {}]"
      ]
     },
     "metadata": {},
     "output_type": "display_data"
    },
    {
     "data": {
      "text/plain": [
       "np.float64(0.9824561403508771)"
      ]
     },
     "metadata": {},
     "output_type": "display_data"
    },
    {
     "data": {
      "text/plain": [
       "np.float64(0.9824561403508771)"
      ]
     },
     "metadata": {},
     "output_type": "display_data"
    },
    {
     "data": {
      "text/plain": [
       "np.float64(0.9298245614035088)"
      ]
     },
     "metadata": {},
     "output_type": "display_data"
    },
    {
     "data": {
      "text/plain": [
       "np.float64(0.9464285714285714)"
      ]
     },
     "metadata": {},
     "output_type": "display_data"
    },
    {
     "data": {
      "text/plain": [
       "np.float64(0.9464285714285714)"
      ]
     },
     "metadata": {},
     "output_type": "display_data"
    },
    {
     "data": {
      "text/plain": [
       "<matplotlib.legend.Legend at 0x2aa2b0af230>"
      ]
     },
     "execution_count": 18,
     "metadata": {},
     "output_type": "execute_result"
    },
    {
     "data": {
      "image/png": "[encoded data removed]",
      "text/plain": [
       "<Figure size 1000x600 with 1 Axes>"
      ]
     },
     "metadata": {},
     "output_type": "display_data"
    }
   ],
   "source": [
    "# vars\n",
    "num_folds = 5\n",
    "test_split_p = 0.15\n",
    "\n",
    "# setup classifier\n",
    "dt_classifier = tree.DecisionTreeClassifier()\n",
    "\n",
    "# init splits and folds\n",
    "X_train, X_test, Y_train, Y_test = train_test_split(\n",
    "    size_x, size_y, test_size = test_split_p, random_state = 0)\n",
    "\n",
    "kf = KFold(shuffle = True, random_state = 0, n_splits = num_folds)\n",
    "\n",
    "# store predictions\n",
    "fold_performances = [{} for _  in range(num_folds)]\n",
    "fold_accs = []\n",
    "display(fold_performances)\n",
    "\n",
    "# iterate through folds\n",
    "for i, (train_idx, val_idx) in enumerate(kf.split(X_train, Y_train)):\n",
    "    # process training dataset\n",
    "    infold_features = X_train.iloc[train_idx]\n",
    "    infold_features_proc = torch.tensor(\n",
    "        preprocessor.fit_transform(infold_features)\n",
    "    )\n",
    "    infold_labels = Y_train[train_idx]\n",
    "\n",
    "    # train with model with infold\n",
    "    dt_classifier.fit(infold_features_proc, infold_labels)\n",
    "\n",
    "    # process validation fold\n",
    "    outfold_features = X_train.iloc[val_idx]\n",
    "    outfold_features_proc = torch.tensor(\n",
    "        preprocessor.fit_transform(outfold_features)\n",
    "    )\n",
    "    outfold_labels = Y_train[val_idx]\n",
    "\n",
    "    # do prediction on outfold\n",
    "    preds = dt_classifier.predict(outfold_features_proc)\n",
    "    \n",
    "    # evluate accuracy\n",
    "    val_acc = np.sum([1 for i, j in zip(preds, outfold_labels) if i == j])/len(preds)\n",
    "    display(val_acc)\n",
    "    fold_accs.append(val_acc)\n",
    "avg_acc = np.mean(fold_accs)\n",
    "plt.figure(figsize = (10, 6))\n",
    "plt.plot(\n",
    "    [i for i in range(num_folds)],\n",
    "    [fold_accs[i] for i in range(num_folds)],\n",
    "    label = f\"{avg_acc}\"\n",
    ")\n",
    "plt.legend()"
   ]
  }
 ],
 "metadata": {
  "kernelspec": {
   "display_name": "kaggle",
   "language": "python",
   "name": "python3"
  },
  "language_info": {
   "codemirror_mode": {
    "name": "ipython",
    "version": 3
   },
   "file_extension": ".py",
   "mimetype": "text/x-python",
   "name": "python",
   "nbconvert_exporter": "python",
   "pygments_lexer": "ipython3",
   "version": "3.13.4"
  }
 },
 "nbformat": 4,
 "nbformat_minor": 5
}
